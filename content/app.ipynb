{
 "cells": [
  {
   "cell_type": "code",
   "execution_count": 2,
   "id": "7eafeb4f-609e-4cb1-838a-4bbe9db2498b",
   "metadata": {},
   "outputs": [
    {
     "data": {
      "application/vnd.jupyter.widget-view+json": {
       "model_id": "0a25c25b90bc42af83fa2baaf2e6bcd4",
       "version_major": 2,
       "version_minor": 0
      },
      "text/plain": [
       "HTML(value='\\n<h1 style=\"text-align:center;\">Effect Size Interpretation Calculator</h1>\\n<h3 style=\"text-align…"
      ]
     },
     "metadata": {},
     "output_type": "display_data"
    },
    {
     "data": {
      "application/vnd.jupyter.widget-view+json": {
       "model_id": "7c98bf9eeb464aeb934e039d7b10cddc",
       "version_major": 2,
       "version_minor": 0
      },
      "text/plain": [
       "SpinGroupSize(value=8, description='Group size', layout=Layout(width='200px'), max=40, min=3)"
      ]
     },
     "metadata": {},
     "output_type": "display_data"
    },
    {
     "data": {
      "application/vnd.jupyter.widget-view+json": {
       "model_id": "48772fa421b04c6bb2a3c15b0a23530d",
       "version_major": 2,
       "version_minor": 0
      },
      "text/plain": [
       "Image(value=b'\\x89PNG\\r\\n\\x1a\\n\\x00\\x00\\x00\\rIHDR\\x00\\x00\\x02\\x80\\x00\\x00\\x01\\xe0\\x08\\x06\\x00\\x00\\x005\\xd1\\xdc…"
      ]
     },
     "metadata": {},
     "output_type": "display_data"
    },
    {
     "data": {
      "application/vnd.jupyter.widget-view+json": {
       "model_id": "4f0624279f154a85b14b53337cd09f11",
       "version_major": 2,
       "version_minor": 0
      },
      "text/plain": [
       "Button(description='Update', style=ButtonStyle())"
      ]
     },
     "metadata": {},
     "output_type": "display_data"
    },
    {
     "data": {
      "application/vnd.jupyter.widget-view+json": {
       "model_id": "d8d8e148d66d47e4b796b9b9a21b2919",
       "version_major": 2,
       "version_minor": 0
      },
      "text/plain": [
       "Output()"
      ]
     },
     "metadata": {},
     "output_type": "display_data"
    }
   ],
   "source": [
    "\n",
    "# \n",
    "\n",
    "import ipywidgets as widgets\n",
    "from IPython.display import display, clear_output\n",
    "\n",
    "\n",
    "s = '''\n",
    "<h1 style=\"text-align:center;\">Effect Size Interpretation Calculator</h1>\n",
    "<h3 style=\"text-align:center;\">for one-dimensional functional data </h3>\n",
    "'''\n",
    "header = widgets.HTML(value=s, placeholder='', description='')\n",
    "\n",
    "\n",
    "\n",
    "class SpinGroupSize( widgets.BoundedIntText ):\n",
    "    def __init__(self, mgr):\n",
    "        super().__init__(value=8, min=3, max=40, step=1, description='Group size', disabled=False, layout=widgets.Layout(width='200px'),)\n",
    "        self.observe(self.on_value_changed, names='value')\n",
    "        self.mgr = mgr\n",
    "        \n",
    "    def on_value_changed(self, change):\n",
    "        n = change['new']\n",
    "        with out:\n",
    "            clear_output()\n",
    "            print( \"n = \", n)\n",
    "\n",
    "        fpath = f'img/contours_n={n}.png'\n",
    "        with open(fpath, 'rb') as f:\n",
    "            img = f.read()\n",
    "        w.value = img\n",
    "        # self.mgr.on_groupsize_changed( change['new'] )\n",
    "\n",
    "\n",
    "# load images;\n",
    "with open('img/contours_n=8.png', 'rb') as f:\n",
    "    img0 = f.read()\n",
    "with open('img/contours_n=20.png', 'rb') as f:\n",
    "    img1 = f.read()\n",
    "\n",
    "\n",
    "\n",
    "# create widgets:\n",
    "spin   = SpinGroupSize( None )\n",
    "w      = widgets.Image(value=img0, format='png', border=None, width=600)\n",
    "button = widgets.Button(description=\"Update\")\n",
    "button._state = 0\n",
    "out = widgets.Output()\n",
    "display(header, spin, w, button, out)\n",
    "\n",
    "# create callback:\n",
    "def on_button_clicked(b):\n",
    "    b._state = 1 if b._state==0 else 0\n",
    "    img      = img0 if b._state==0 else img1\n",
    "    with out:\n",
    "        clear_output()\n",
    "        print( \"Current state: \", b._state)\n",
    "    w.value = img\n",
    "\n",
    "button.on_click(on_button_clicked)\n",
    "\n",
    "\n",
    "\n",
    "\n"
   ]
  }
 ],
 "metadata": {
  "kernelspec": {
   "display_name": "Python 3 (ipykernel)",
   "language": "python",
   "name": "python3"
  },
  "language_info": {
   "codemirror_mode": {
    "name": "ipython",
    "version": 3
   },
   "file_extension": ".py",
   "mimetype": "text/x-python",
   "name": "python",
   "nbconvert_exporter": "python",
   "pygments_lexer": "ipython3",
   "version": "3.11.3"
  }
 },
 "nbformat": 4,
 "nbformat_minor": 5
}
