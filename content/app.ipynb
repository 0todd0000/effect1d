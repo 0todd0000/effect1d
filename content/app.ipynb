{
 "cells": [
  {
   "cell_type": "code",
   "execution_count": 1,
   "id": "c832bfa6-42e6-4bf3-9506-fe93c1c4ed72",
   "metadata": {},
   "outputs": [],
   "source": [
    "import matplotlib as mpl; mpl.set_loglevel(\"critical\")\n",
    "%matplotlib inline\n",
    "from ipywidgets import AppLayout\n",
    "from IPython.display import display\n",
    "import e1dwidgets as e1d"
   ]
  },
  {
   "cell_type": "markdown",
   "id": "6f6c1f66-a353-402b-b7b8-211ad417e56e",
   "metadata": {},
   "source": [
    "\n",
    "<h1 style=\"text-align:center;\">Effect Size Interpretation Calculator</h1>\n",
    "\n",
    "<h4 style=\"text-align:center;\">for one-dimensional functional data </h4>"
   ]
  },
  {
   "cell_type": "code",
   "execution_count": 2,
   "id": "5b9f58e4-0d59-4efd-87e7-3451f5c82c98",
   "metadata": {},
   "outputs": [
    {
     "data": {
      "application/vnd.jupyter.widget-view+json": {
       "model_id": "e0e29aa9bd4648d2ba367d79aa646ea6",
       "version_major": 2,
       "version_minor": 0
      },
      "text/plain": [
       "AppLayout(children=(HBoxDesign(children=(DropdownDesign(description='Design:', index=2, options=('One-sample',…"
      ]
     },
     "metadata": {},
     "output_type": "display_data"
    }
   ],
   "source": [
    "\n",
    "fig_widget     = e1d.FigureWithSlidersWidget()\n",
    "vbox1          = e1d.VBoxResults()\n",
    "\n",
    "hbox_design    = e1d.HBoxDesign()\n",
    "vbox0          = e1d.VBoxControls( fig_widget, vbox1 )\n",
    "hbox_dlimits   = e1d.HBoxDLimits()\n",
    "\n",
    "\n",
    "layout_app = AppLayout(\n",
    "        header        = hbox_design,\n",
    "        left_sidebar  = vbox0,\n",
    "        center        = fig_widget,\n",
    "        right_sidebar = vbox1,\n",
    "        )\n",
    "\n",
    "display( layout_app )\n",
    "\n"
   ]
  }
 ],
 "metadata": {
  "kernelspec": {
   "display_name": "Python 3 (ipykernel)",
   "language": "python",
   "name": "python3"
  },
  "language_info": {
   "codemirror_mode": {
    "name": "ipython",
    "version": 3
   },
   "file_extension": ".py",
   "mimetype": "text/x-python",
   "name": "python",
   "nbconvert_exporter": "python",
   "pygments_lexer": "ipython3",
   "version": "3.12.7"
  }
 },
 "nbformat": 4,
 "nbformat_minor": 5
}
