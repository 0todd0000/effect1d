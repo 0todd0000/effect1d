{
 "cells": [
  {
   "cell_type": "markdown",
   "id": "6f6c1f66-a353-402b-b7b8-211ad417e56e",
   "metadata": {},
   "source": [
    "\n",
    "<h1 style=\"text-align:center;\">Effect Size Interpretation Calculator</h1>\n",
    "\n",
    "<h4 style=\"text-align:center;\">for one-dimensional functional data </h4>"
   ]
  },
  {
   "cell_type": "code",
   "execution_count": 1,
   "id": "6ab086fe-ef32-4c3f-b2dd-94378eaa56d8",
   "metadata": {},
   "outputs": [],
   "source": [
    "# import matplotlib as mpl; mpl.set_loglevel(\"critical\")\n",
    "# %matplotlib ipympl\n",
    "# from IPython.display import display\n",
    "# import e1dwidgets as e1d\n",
    "\n",
    "\n",
    "# # # w = e1d.mpl.MPLWidget()\n",
    "\n",
    "# # import ipywidgets as widgets\n",
    "# # import matplotlib.pyplot as plt\n",
    "# # import matplotlib.widgets\n",
    "# # plt.close('all')\n",
    "\n",
    "# w = e1d.mpl.MPLWidget()\n",
    "\n",
    "\n"
   ]
  },
  {
   "cell_type": "code",
   "execution_count": 2,
   "id": "27126004-7c1d-4740-ab85-46d81be1d753",
   "metadata": {},
   "outputs": [
    {
     "data": {
      "application/vnd.jupyter.widget-view+json": {
       "model_id": "249f013a73f14f1cacfcb303a8044929",
       "version_major": 2,
       "version_minor": 0
      },
      "text/plain": [
       "Image(value=b'\\x89PNG\\r\\n\\x1a\\n\\x00\\x00\\x00\\rIHDR\\x00\\x00\\x01\\xe0\\x00\\x00\\x01\\x0e\\x08\\x06\\x00\\x00\\x00Q\\x9a\\xc4…"
      ]
     },
     "metadata": {},
     "output_type": "display_data"
    },
    {
     "data": {
      "application/vnd.jupyter.widget-view+json": {
       "model_id": "9d05f4b8c999471dbb4280aef3f51059",
       "version_major": 2,
       "version_minor": 0
      },
      "text/plain": [
       "Button(description='Update', style=ButtonStyle())"
      ]
     },
     "metadata": {},
     "output_type": "display_data"
    },
    {
     "data": {
      "application/vnd.jupyter.widget-view+json": {
       "model_id": "960ea02007ef46c49c38a69f854e92b7",
       "version_major": 2,
       "version_minor": 0
      },
      "text/plain": [
       "Output()"
      ]
     },
     "metadata": {},
     "output_type": "display_data"
    }
   ],
   "source": [
    "import ipywidgets as widgets\n",
    "from IPython.display import display, clear_output\n",
    "\n",
    "# load images;\n",
    "with open('examples/img/1.png', 'rb') as f:\n",
    "    img0 = f.read()\n",
    "with open('examples/img/2.jpg', 'rb') as f:\n",
    "    img1 = f.read()\n",
    "\n",
    "# create widgets:\n",
    "w      = widgets.Image(value=img0, format='png', border=None, width=300)\n",
    "button = widgets.Button(description=\"Update\")\n",
    "button._state = 0\n",
    "out = widgets.Output()\n",
    "display(w, button, out)\n",
    "\n",
    "# create callback:\n",
    "def on_button_clicked(b):\n",
    "    b._state = 1 if b._state==0 else 0\n",
    "    img      = img0 if b._state==0 else img1\n",
    "    with out:\n",
    "        clear_output()\n",
    "        print( \"Current state: \", b._state)\n",
    "    w.value = img\n",
    "\n",
    "button.on_click(on_button_clicked)\n"
   ]
  },
  {
   "cell_type": "code",
   "execution_count": 3,
   "id": "b7b03779-6018-4fa9-a0f3-6184d29a269f",
   "metadata": {},
   "outputs": [],
   "source": [
    "# print( dir( w.controls ) )\n",
    "# print( w.controls.kwargs )\n",
    "# print()\n",
    "# print( w.controls.figs )\n",
    "# print()\n",
    "# # print( w.children[0] )"
   ]
  },
  {
   "cell_type": "code",
   "execution_count": 4,
   "id": "806f5d99-9646-4c38-85f9-7c3c2adab026",
   "metadata": {},
   "outputs": [],
   "source": [
    "\n",
    "\n",
    "# out = widgets.Output()\n",
    "# display(out)\n",
    "\n",
    "# def my_callback(event):\n",
    "#     with out:\n",
    "#         print('my_callback')\n",
    "#     # ax.plot( np.random.randn(3), 'r' )\n",
    "#     # plt.draw()\n",
    "#     # with out:\n",
    "#     #     print('okok')\n",
    "#     # w.update( out )\n",
    "#     # pass\n",
    "\n",
    "# w.connect(my_callback, \"xx\")\n",
    "\n",
    "# with out:\n",
    "#     print('okokok')\n",
    "\n",
    "# out = widgets.Output()\n",
    "# display(out)\n",
    "\n",
    "\n",
    "\n",
    "# def my_callback(event):\n",
    "#     # print('my_callback')\n",
    "#     # ax.plot( np.random.randn(3), 'r' )\n",
    "#     # plt.draw()\n",
    "#     # with out:\n",
    "#     #     print('okok')\n",
    "#     w.update( out )\n",
    "#     pass\n",
    "\n",
    "\n",
    "\n",
    "\n",
    "# fig = plt.figure( figsize=(1.5,0.5) )\n",
    "# ax  = fig.add_axes([0,0,1,1])\n",
    "# w1 = matplotlib.widgets.Button(ax, 'OKOK', image=None, color='0.85', hovercolor='0.95', useblit=True)\n",
    "\n",
    "# fig.canvas.toolbar_visible = False\n",
    "# fig.canvas.header_visible = False\n",
    "# fig.canvas.footer_visible = False\n",
    "\n",
    "# cid = w1.on_clicked( my_callback )\n",
    "# # cid = w1.on_clicked( w.update )\n",
    "\n",
    "\n",
    "\n",
    "\n",
    "# # display( w )"
   ]
  },
  {
   "cell_type": "code",
   "execution_count": 5,
   "id": "f3e3c39f-8edd-4586-9b64-da4fe3b60182",
   "metadata": {},
   "outputs": [],
   "source": [
    "# import matplotlib as mpl; mpl.set_loglevel(\"critical\")\n",
    "# %matplotlib inline\n",
    "# # %matplotlib notebook\n",
    "# # %matplotlib ipympl\n",
    "# # %matplotlib qt5agg\n",
    "# from ipywidgets import AppLayout\n",
    "# from IPython.display import display\n",
    "# import e1dwidgets as e1d\n",
    "\n",
    "\n",
    "# mgr      = e1d.CallbackManager( print_messages=True )\n",
    "# design   = e1d.DesignWidget( mgr )\n",
    "# controls = e1d.ControlsWidget( mgr )\n",
    "# fig      = e1d.FigureWidget( mgr )\n",
    "# results  = e1d.ResultsWidget( mgr )\n",
    "# out      = e1d.Output( mgr )\n",
    "\n",
    "\n",
    "# layout   = AppLayout(header=design, left_sidebar=controls, center=fig, right_sidebar=results, footer=out)\n",
    "# display( layout )"
   ]
  },
  {
   "cell_type": "code",
   "execution_count": 6,
   "id": "89ec9bb2-d14b-48cb-91e1-a98919202fd8",
   "metadata": {},
   "outputs": [],
   "source": [
    "# from mpl_interactions import ipyplot as iplt\n",
    "# from matplotlib.widgets import Slider, RangeSlider\n",
    "\n",
    "# import numpy as np\n",
    "\n",
    "# fig = plt.figure()\n",
    "# ax = fig.add_axes([0.20,0.20,0.79,0.79])\n",
    "\n",
    "# fig.canvas.toolbar_visible = False\n",
    "# fig.canvas.header_visible = False\n",
    "# fig.canvas.footer_visible = False\n",
    "\n",
    "# # fig, ax = plt.subplots()\n",
    "# # plt.subplots_adjust(bottom=0.20, left=0.20)\n",
    "# #\n",
    "# x = np.linspace(0, 1, 11)\n",
    "\n",
    "# def f(x, xx, yy):\n",
    "#     return np.random.randn(11)\n",
    "\n",
    "# ax0 = plt.axes([0.20, 0.05, 0.65, 0.03])\n",
    "# ax1 = plt.axes([0.05, 0.20, 0.03, 0.65])\n",
    "# slider0 = RangeSlider(ax0, label=\"xlim\", valmin=0.05, valmax=10, valfmt='%.1f', orientation='horizontal')\n",
    "# slider1 = RangeSlider(ax1, label=\"xlim\", valmin=0.05, valmax=10, valfmt='%.1f', orientation='vertical')\n",
    "\n",
    "# controls = iplt.plot(x, f, xx=slider0, yy=slider1, ax=ax, xlim='fixed', ylim='fixed')\n",
    "\n"
   ]
  }
 ],
 "metadata": {
  "kernelspec": {
   "display_name": "Python 3 (ipykernel)",
   "language": "python",
   "name": "python3"
  },
  "language_info": {
   "codemirror_mode": {
    "name": "ipython",
    "version": 3
   },
   "file_extension": ".py",
   "mimetype": "text/x-python",
   "name": "python",
   "nbconvert_exporter": "python",
   "pygments_lexer": "ipython3",
   "version": "3.12.7"
  }
 },
 "nbformat": 4,
 "nbformat_minor": 5
}
