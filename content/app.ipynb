{
 "cells": [
  {
   "cell_type": "markdown",
   "id": "6f6c1f66-a353-402b-b7b8-211ad417e56e",
   "metadata": {},
   "source": [
    "\n",
    "<h1 style=\"text-align:center;\">Effect Size Interpretation Calculator</h1>\n",
    "\n",
    "<h4 style=\"text-align:center;\">for one-dimensional functional data </h4>"
   ]
  },
  {
   "cell_type": "code",
   "execution_count": 1,
   "id": "5b9f58e4-0d59-4efd-87e7-3451f5c82c98",
   "metadata": {},
   "outputs": [
    {
     "data": {
      "application/vnd.jupyter.widget-view+json": {
       "model_id": "2b11f6f40a1e4e438c7e18ff74fd252d",
       "version_major": 2,
       "version_minor": 0
      },
      "text/plain": [
       "AppLayout(children=(DesignWidget(children=(DropdownDesign(description='Design', index=2, options=('One-sample'…"
      ]
     },
     "metadata": {},
     "output_type": "display_data"
    }
   ],
   "source": [
    "import matplotlib as mpl; mpl.set_loglevel(\"critical\")\n",
    "%matplotlib inline\n",
    "from ipywidgets import AppLayout\n",
    "from IPython.display import display\n",
    "import e1dwidgets as e1d\n",
    "\n",
    "\n",
    "mgr      = e1d.CallbackManager( print_messages=True )\n",
    "design   = e1d.DesignWidget( mgr )\n",
    "controls = e1d.ControlsWidget( mgr )\n",
    "fig      = e1d.FigureWidget( mgr )\n",
    "results  = e1d.ResultsWidget( mgr )\n",
    "out      = e1d.Output( mgr )\n",
    "\n",
    "\n",
    "layout   = AppLayout(header=design, left_sidebar=controls, center=fig, right_sidebar=results, footer=out)\n",
    "display( layout )\n",
    "\n"
   ]
  }
 ],
 "metadata": {
  "kernelspec": {
   "display_name": "Python 3 (ipykernel)",
   "language": "python",
   "name": "python3"
  },
  "language_info": {
   "codemirror_mode": {
    "name": "ipython",
    "version": 3
   },
   "file_extension": ".py",
   "mimetype": "text/x-python",
   "name": "python",
   "nbconvert_exporter": "python",
   "pygments_lexer": "ipython3",
   "version": "3.12.7"
  }
 },
 "nbformat": 4,
 "nbformat_minor": 5
}
