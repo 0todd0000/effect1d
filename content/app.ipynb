{
 "cells": [
  {
   "cell_type": "code",
   "execution_count": 2,
   "id": "7eafeb4f-609e-4cb1-838a-4bbe9db2498b",
   "metadata": {},
   "outputs": [
    {
     "data": {
      "application/vnd.jupyter.widget-view+json": {
       "model_id": "320ae02b6340421fae2d31971434d46d",
       "version_major": 2,
       "version_minor": 0
      },
      "text/plain": [
       "AppHeader(children=(HTML(value='\\n        <h1 style=\"text-align:center;\">Effect Size Interpretation Calculator…"
      ]
     },
     "metadata": {},
     "output_type": "display_data"
    },
    {
     "data": {
      "application/vnd.jupyter.widget-view+json": {
       "model_id": "ed16fe53b32247c2b9d61fd7541e8fd1",
       "version_major": 2,
       "version_minor": 0
      },
      "text/plain": [
       "ControlsWidget(children=(Header(children=(HTML(value='<h3>Parameters</h3>', placeholder=''),), layout=Layout(a…"
      ]
     },
     "metadata": {},
     "output_type": "display_data"
    },
    {
     "data": {
      "application/vnd.jupyter.widget-view+json": {
       "model_id": "b78922bf2fd249898ee9b94650453073",
       "version_major": 2,
       "version_minor": 0
      },
      "text/plain": [
       "Image(value=b'\\x89PNG\\r\\n\\x1a\\n\\x00\\x00\\x00\\rIHDR\\x00\\x00\\x02\\x80\\x00\\x00\\x01\\xe0\\x08\\x06\\x00\\x00\\x005\\xd1\\xdc…"
      ]
     },
     "metadata": {},
     "output_type": "display_data"
    },
    {
     "data": {
      "application/vnd.jupyter.widget-view+json": {
       "model_id": "d68181c928314b60a27c505aca482db4",
       "version_major": 2,
       "version_minor": 0
      },
      "text/plain": [
       "Button(description='Update', style=ButtonStyle())"
      ]
     },
     "metadata": {},
     "output_type": "display_data"
    },
    {
     "data": {
      "application/vnd.jupyter.widget-view+json": {
       "model_id": "69a2057868664ea0a2544ab5e1ef0c13",
       "version_major": 2,
       "version_minor": 0
      },
      "text/plain": [
       "Output()"
      ]
     },
     "metadata": {},
     "output_type": "display_data"
    }
   ],
   "source": [
    "\n",
    "# \n",
    "\n",
    "import ipywidgets as widgets\n",
    "from IPython.display import display, clear_output\n",
    "import e1dwidgets as e1\n",
    "\n",
    "\n",
    "mgr      = e1.CallbackManager()\n",
    "header   = e1.AppHeader()\n",
    "controls = e1.ControlsWidget( mgr )\n",
    "\n",
    "# from e1dwidgets.basic import SpinGroupSize\n",
    "\n",
    "\n",
    "\n",
    "# load images;\n",
    "with open('img/contours_n=8.png', 'rb') as f:\n",
    "    img0 = f.read()\n",
    "with open('img/contours_n=20.png', 'rb') as f:\n",
    "    img1 = f.read()\n",
    "\n",
    "\n",
    "\n",
    "# create widgets:\n",
    "# spin   = SpinGroupSize( None )\n",
    "w      = widgets.Image(value=img0, format='png', border=None, width=600)\n",
    "button = widgets.Button(description=\"Update\")\n",
    "button._state = 0\n",
    "out = widgets.Output()\n",
    "\n",
    "\n",
    "display(header, controls, w, button, out)\n",
    "\n",
    "\n",
    "# create callback:\n",
    "def on_button_clicked(b):\n",
    "    b._state = 1 if b._state==0 else 0\n",
    "    img      = img0 if b._state==0 else img1\n",
    "    with out:\n",
    "        clear_output()\n",
    "        print( \"Current state: \", b._state)\n",
    "    w.value = img\n",
    "\n",
    "button.on_click(on_button_clicked)\n",
    "\n",
    "\n",
    "\n",
    "\n"
   ]
  }
 ],
 "metadata": {
  "kernelspec": {
   "display_name": "Python 3 (ipykernel)",
   "language": "python",
   "name": "python3"
  },
  "language_info": {
   "codemirror_mode": {
    "name": "ipython",
    "version": 3
   },
   "file_extension": ".py",
   "mimetype": "text/x-python",
   "name": "python",
   "nbconvert_exporter": "python",
   "pygments_lexer": "ipython3",
   "version": "3.11.3"
  }
 },
 "nbformat": 4,
 "nbformat_minor": 5
}
