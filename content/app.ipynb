{
 "cells": [
  {
   "cell_type": "markdown",
   "id": "6f6c1f66-a353-402b-b7b8-211ad417e56e",
   "metadata": {},
   "source": [
    "\n",
    "<h1 style=\"text-align:center;\">Effect Size Interpretation Calculator</h1>\n",
    "\n",
    "<h4 style=\"text-align:center;\">for one-dimensional functional data </h4>"
   ]
  },
  {
   "cell_type": "code",
   "execution_count": 1,
   "id": "6ab086fe-ef32-4c3f-b2dd-94378eaa56d8",
   "metadata": {},
   "outputs": [],
   "source": [
    "# import matplotlib as mpl; mpl.set_loglevel(\"critical\")\n",
    "# %matplotlib ipympl\n",
    "# from IPython.display import display\n",
    "# import e1dwidgets as e1d\n",
    "\n",
    "\n",
    "# # # w = e1d.mpl.MPLWidget()\n",
    "\n",
    "# # import ipywidgets as widgets\n",
    "# # import matplotlib.pyplot as plt\n",
    "# # import matplotlib.widgets\n",
    "# # plt.close('all')\n",
    "\n",
    "# w = e1d.mpl.MPLWidget()\n",
    "\n",
    "\n"
   ]
  },
  {
   "cell_type": "code",
   "execution_count": 2,
   "id": "6c1dfbf2-ac7c-44b0-a318-bcdc63e251b8",
   "metadata": {},
   "outputs": [
    {
     "data": {
      "application/vnd.jupyter.widget-view+json": {
       "model_id": "5a738890c2ce46119d34f497cdd2de3c",
       "version_major": 2,
       "version_minor": 0
      },
      "text/plain": [
       "MPLImageWidget(value=b'\\x89PNG\\r\\n\\x1a\\n\\x00\\x00\\x00\\rIHDR\\x00\\x00\\x02\\x80\\x00\\x00\\x01\\xe0\\x08\\x06\\x00\\x00\\x00…"
      ]
     },
     "metadata": {},
     "output_type": "display_data"
    },
    {
     "data": {
      "application/vnd.jupyter.widget-view+json": {
       "model_id": "a62dd61a483d433181f67a628be55358",
       "version_major": 2,
       "version_minor": 0
      },
      "text/plain": [
       "Button(description='Update', style=ButtonStyle())"
      ]
     },
     "metadata": {},
     "output_type": "display_data"
    },
    {
     "data": {
      "application/vnd.jupyter.widget-view+json": {
       "model_id": "fc7c4eff5d5b41c28d0dbc1a8153c1b0",
       "version_major": 2,
       "version_minor": 0
      },
      "text/plain": [
       "Output()"
      ]
     },
     "metadata": {},
     "output_type": "display_data"
    }
   ],
   "source": [
    "import ipywidgets as widgets\n",
    "from IPython.display import display, clear_output\n",
    "import matplotlib as mpl\n",
    "mpl.use('Agg')  # Agg backend will not generate the figure unless plt.show() is called\n",
    "import numpy as np\n",
    "import matplotlib.pyplot as plt\n",
    "\n",
    "\n",
    "\n",
    "import e1dwidgets as e1d\n",
    "\n",
    "w  = e1d.MPLImageWidget()\n",
    "\n",
    "\n",
    "button = widgets.Button(description=\"Update\")\n",
    "button._state = 0\n",
    "out = widgets.Output()\n",
    "display(w, button, out)\n",
    "\n",
    "# create callback:\n",
    "def on_button_clicked(b):\n",
    "    b._state = 1 if b._state==0 else 0\n",
    "    with out:\n",
    "        clear_output()\n",
    "        print( \"Current state: \", b._state)\n",
    "    w.update()\n",
    "\n",
    "button.on_click(on_button_clicked)"
   ]
  },
  {
   "cell_type": "code",
   "execution_count": 3,
   "id": "27126004-7c1d-4740-ab85-46d81be1d753",
   "metadata": {},
   "outputs": [],
   "source": [
    "# import ipywidgets as widgets\n",
    "# from IPython.display import display, clear_output\n",
    "# import matplotlib as mpl\n",
    "# mpl.use('Agg')  # Agg backend will not generate the figure unless plt.show() is called\n",
    "# import numpy as np\n",
    "# import matplotlib.pyplot as plt\n",
    "# from io import BytesIO\n",
    "\n",
    "# def fig2img():\n",
    "#     b = BytesIO()\n",
    "#     plt.savefig(b, format='png')\n",
    "#     b.seek(0)\n",
    "#     img = b.getvalue()\n",
    "#     b.close()\n",
    "#     return img\n",
    "    \n",
    "\n",
    "# # generate two images:\n",
    "# np.random.seed(0)\n",
    "# shape = 20,50\n",
    "# a0   = np.random.randn( *shape )\n",
    "# a1   = np.random.randn( *shape )\n",
    "# ### first image:\n",
    "# fig  = plt.figure( figsize=(3,2) )\n",
    "# ax   = fig.add_axes( [0,0,1,1] )\n",
    "# ax.imshow(a0)\n",
    "# img0 = fig2img()\n",
    "# ### second image:\n",
    "# ax.cla()\n",
    "# ax.imshow(a1)\n",
    "# img1 = fig2img()\n",
    "\n",
    "\n",
    "\n",
    "# # create widgets:\n",
    "# w      = widgets.Image(value=img0, format='png', border=None, width=300)\n",
    "# button = widgets.Button(description=\"Update\")\n",
    "# button._state = 0\n",
    "# out = widgets.Output()\n",
    "# display(w, button, out)\n",
    "\n",
    "# # create callback:\n",
    "# def on_button_clicked(b):\n",
    "#     b._state = 1 if b._state==0 else 0\n",
    "#     img      = img0 if b._state==0 else img1\n",
    "#     with out:\n",
    "#         clear_output()\n",
    "#         print( \"Current state: \", b._state)\n",
    "#     w.value = img\n",
    "\n",
    "# button.on_click(on_button_clicked)\n"
   ]
  },
  {
   "cell_type": "code",
   "execution_count": 4,
   "id": "f3e3c39f-8edd-4586-9b64-da4fe3b60182",
   "metadata": {},
   "outputs": [],
   "source": [
    "# import matplotlib as mpl; mpl.set_loglevel(\"critical\")\n",
    "# %matplotlib inline\n",
    "# # %matplotlib notebook\n",
    "# # %matplotlib ipympl\n",
    "# # %matplotlib qt5agg\n",
    "# from ipywidgets import AppLayout\n",
    "# from IPython.display import display\n",
    "# import e1dwidgets as e1d\n",
    "\n",
    "\n",
    "# mgr      = e1d.CallbackManager( print_messages=True )\n",
    "# design   = e1d.DesignWidget( mgr )\n",
    "# controls = e1d.ControlsWidget( mgr )\n",
    "# fig      = e1d.FigureWidget( mgr )\n",
    "# results  = e1d.ResultsWidget( mgr )\n",
    "# out      = e1d.Output( mgr )\n",
    "\n",
    "\n",
    "# layout   = AppLayout(header=design, left_sidebar=controls, center=fig, right_sidebar=results, footer=out)\n",
    "# display( layout )"
   ]
  }
 ],
 "metadata": {
  "kernelspec": {
   "display_name": "Python 3 (ipykernel)",
   "language": "python",
   "name": "python3"
  },
  "language_info": {
   "codemirror_mode": {
    "name": "ipython",
    "version": 3
   },
   "file_extension": ".py",
   "mimetype": "text/x-python",
   "name": "python",
   "nbconvert_exporter": "python",
   "pygments_lexer": "ipython3",
   "version": "3.12.7"
  }
 },
 "nbformat": 4,
 "nbformat_minor": 5
}
