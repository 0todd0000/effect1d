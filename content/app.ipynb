{
 "cells": [
  {
   "cell_type": "code",
   "execution_count": 1,
   "id": "7eafeb4f-609e-4cb1-838a-4bbe9db2498b",
   "metadata": {},
   "outputs": [
    {
     "data": {
      "application/vnd.jupyter.widget-view+json": {
       "model_id": "d95eb4fc40d84a539de38b4bc08704c4",
       "version_major": 2,
       "version_minor": 0
      },
      "text/plain": [
       "AppHeader(children=(HTML(value='\\n        <h1 style=\"text-align:center;\">Effect Size Interpretation Calculator…"
      ]
     },
     "metadata": {},
     "output_type": "display_data"
    },
    {
     "data": {
      "application/vnd.jupyter.widget-view+json": {
       "model_id": "b6f266db07d1473894fdd0972a9ae0ae",
       "version_major": 2,
       "version_minor": 0
      },
      "text/plain": [
       "ControlsWidget(children=(Header(children=(HTML(value='<h3>Parameters</h3>', placeholder=''),), layout=Layout(a…"
      ]
     },
     "metadata": {},
     "output_type": "display_data"
    },
    {
     "data": {
      "application/vnd.jupyter.widget-view+json": {
       "model_id": "79e15f51d8ec41348dd33e65db8126cc",
       "version_major": 2,
       "version_minor": 0
      },
      "text/plain": [
       "FigureWidget(value=b'\\x89PNG\\r\\n\\x1a\\n\\x00\\x00\\x00\\rIHDR\\x00\\x00\\x02\\x80\\x00\\x00\\x01\\xe0\\x08\\x06\\x00\\x00\\x005\\…"
      ]
     },
     "metadata": {},
     "output_type": "display_data"
    },
    {
     "data": {
      "application/vnd.jupyter.widget-view+json": {
       "model_id": "90338f7e156b4670ab36ede2b7c7a787",
       "version_major": 2,
       "version_minor": 0
      },
      "text/plain": [
       "Output()"
      ]
     },
     "metadata": {},
     "output_type": "display_data"
    }
   ],
   "source": [
    "\n",
    "# \n",
    "\n",
    "import ipywidgets as widgets\n",
    "from IPython.display import display, clear_output\n",
    "# import e1dwidgets as e1\n",
    "\n",
    "import mywidgets as mw\n",
    "\n",
    "\n",
    "mgr      = mw.CallbackManager()\n",
    "# mgr      = None\n",
    "header   = mw.AppHeader()\n",
    "controls = mw.ControlsWidget( mgr )\n",
    "figure   = mw.FigureWidget( mgr )\n",
    "\n",
    "out      = widgets.Output()\n",
    "\n",
    "mgr.set_output_widget( out )\n",
    "\n",
    "\n",
    "display(header, controls, figure, out)\n",
    "\n",
    "\n",
    "\n",
    "# # from e1dwidgets.basic import SpinGroupSize\n",
    "\n",
    "\n",
    "\n",
    "# # load images;\n",
    "# with open('img/contours_n=8.png', 'rb') as f:\n",
    "#     img0 = f.read()\n",
    "# with open('img/contours_n=20.png', 'rb') as f:\n",
    "#     img1 = f.read()\n",
    "\n",
    "\n",
    "\n",
    "# # create widgets:\n",
    "\n",
    "# w      = widgets.Image(value=img0, format='png', border=None, width=600)\n",
    "# button = widgets.Button(description=\"Update\")\n",
    "# button._state = 0\n",
    "# out = widgets.Output()\n",
    "\n",
    "\n",
    "# # spin   = mw.SpinGroupSize( image_widget=w )\n",
    "\n",
    "# display(header, controls, w, button, out)\n",
    "\n",
    "\n",
    "# # create callback:\n",
    "# def on_button_clicked(b):\n",
    "#     b._state = 1 if b._state==0 else 0\n",
    "#     img      = img0 if b._state==0 else img1\n",
    "#     with out:\n",
    "#         clear_output()\n",
    "#         print( \"Current state: \", b._state)\n",
    "#     w.value = img\n",
    "\n",
    "# button.on_click(on_button_clicked)\n",
    "\n",
    "\n",
    "\n",
    "\n"
   ]
  }
 ],
 "metadata": {
  "kernelspec": {
   "display_name": "Python 3 (ipykernel)",
   "language": "python",
   "name": "python3"
  },
  "language_info": {
   "codemirror_mode": {
    "name": "ipython",
    "version": 3
   },
   "file_extension": ".py",
   "mimetype": "text/x-python",
   "name": "python",
   "nbconvert_exporter": "python",
   "pygments_lexer": "ipython3",
   "version": "3.11.3"
  }
 },
 "nbformat": 4,
 "nbformat_minor": 5
}
