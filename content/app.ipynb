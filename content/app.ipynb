{
 "cells": [
  {
   "cell_type": "code",
   "execution_count": 1,
   "id": "7eafeb4f-609e-4cb1-838a-4bbe9db2498b",
   "metadata": {},
   "outputs": [
    {
     "data": {
      "application/vnd.jupyter.widget-view+json": {
       "model_id": "473ab291e1ad4cd1911d53b1366911c4",
       "version_major": 2,
       "version_minor": 0
      },
      "text/plain": [
       "Header(children=(HTML(value='\\n        <h1 style=\"text-align:center;\">Effect Size Interpretation Calculator</h…"
      ]
     },
     "metadata": {},
     "output_type": "display_data"
    },
    {
     "data": {
      "application/vnd.jupyter.widget-view+json": {
       "model_id": "cea86d1c966a41538cc4907163b413b7",
       "version_major": 2,
       "version_minor": 0
      },
      "text/plain": [
       "SpinGroupSize(value=8, description='Group size', layout=Layout(width='200px'), max=40, min=3)"
      ]
     },
     "metadata": {},
     "output_type": "display_data"
    },
    {
     "data": {
      "application/vnd.jupyter.widget-view+json": {
       "model_id": "cc6fc9df602a44f08fe07ba4f1076340",
       "version_major": 2,
       "version_minor": 0
      },
      "text/plain": [
       "Image(value=b'\\x89PNG\\r\\n\\x1a\\n\\x00\\x00\\x00\\rIHDR\\x00\\x00\\x02\\x80\\x00\\x00\\x01\\xe0\\x08\\x06\\x00\\x00\\x005\\xd1\\xdc…"
      ]
     },
     "metadata": {},
     "output_type": "display_data"
    },
    {
     "data": {
      "application/vnd.jupyter.widget-view+json": {
       "model_id": "1fcb7c57078045afbe688b280221067c",
       "version_major": 2,
       "version_minor": 0
      },
      "text/plain": [
       "Button(description='Update', style=ButtonStyle())"
      ]
     },
     "metadata": {},
     "output_type": "display_data"
    },
    {
     "data": {
      "application/vnd.jupyter.widget-view+json": {
       "model_id": "ab1796dd554e4863aa232b10cfb3ec0f",
       "version_major": 2,
       "version_minor": 0
      },
      "text/plain": [
       "Output()"
      ]
     },
     "metadata": {},
     "output_type": "display_data"
    }
   ],
   "source": [
    "\n",
    "# \n",
    "\n",
    "import ipywidgets as widgets\n",
    "from IPython.display import display, clear_output\n",
    "import e1dwidgets as e1\n",
    "\n",
    "# s = '''\n",
    "# <h1 style=\"text-align:center;\">Effect Size Interpretation Calculator</h1>\n",
    "# <h3 style=\"text-align:center;\">for one-dimensional functional data </h3>\n",
    "# '''\n",
    "# header = widgets.HTML(value=s, placeholder='', description='')\n",
    "\n",
    "\n",
    "header = e1.Header()\n",
    "\n",
    "\n",
    "class SpinGroupSize( widgets.BoundedIntText ):\n",
    "    def __init__(self, mgr):\n",
    "        super().__init__(value=8, min=3, max=40, step=1, description='Group size', disabled=False, layout=widgets.Layout(width='200px'),)\n",
    "        self.observe(self.on_value_changed, names='value')\n",
    "        self.mgr = mgr\n",
    "        \n",
    "    def on_value_changed(self, change):\n",
    "        n = change['new']\n",
    "        with out:\n",
    "            clear_output()\n",
    "            print( \"n = \", n)\n",
    "\n",
    "        fpath = f'img/contours_n={n}.png'\n",
    "        with open(fpath, 'rb') as f:\n",
    "            img = f.read()\n",
    "        w.value = img\n",
    "        # self.mgr.on_groupsize_changed( change['new'] )\n",
    "\n",
    "\n",
    "# load images;\n",
    "with open('img/contours_n=8.png', 'rb') as f:\n",
    "    img0 = f.read()\n",
    "with open('img/contours_n=20.png', 'rb') as f:\n",
    "    img1 = f.read()\n",
    "\n",
    "\n",
    "\n",
    "# create widgets:\n",
    "spin   = SpinGroupSize( None )\n",
    "w      = widgets.Image(value=img0, format='png', border=None, width=600)\n",
    "button = widgets.Button(description=\"Update\")\n",
    "button._state = 0\n",
    "out = widgets.Output()\n",
    "display(header, spin, w, button, out)\n",
    "\n",
    "# create callback:\n",
    "def on_button_clicked(b):\n",
    "    b._state = 1 if b._state==0 else 0\n",
    "    img      = img0 if b._state==0 else img1\n",
    "    with out:\n",
    "        clear_output()\n",
    "        print( \"Current state: \", b._state)\n",
    "    w.value = img\n",
    "\n",
    "button.on_click(on_button_clicked)\n",
    "\n",
    "\n",
    "\n",
    "\n"
   ]
  }
 ],
 "metadata": {
  "kernelspec": {
   "display_name": "Python 3 (ipykernel)",
   "language": "python",
   "name": "python3"
  },
  "language_info": {
   "codemirror_mode": {
    "name": "ipython",
    "version": 3
   },
   "file_extension": ".py",
   "mimetype": "text/x-python",
   "name": "python",
   "nbconvert_exporter": "python",
   "pygments_lexer": "ipython3",
   "version": "3.11.3"
  }
 },
 "nbformat": 4,
 "nbformat_minor": 5
}
