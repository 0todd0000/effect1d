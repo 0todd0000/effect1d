{
 "cells": [
  {
   "cell_type": "markdown",
   "id": "6f6c1f66-a353-402b-b7b8-211ad417e56e",
   "metadata": {},
   "source": [
    "\n",
    "<h1 style=\"text-align:center;\">Effect Size Interpretation Calculator</h1>\n",
    "\n",
    "<h4 style=\"text-align:center;\">for one-dimensional functional data </h4>"
   ]
  },
  {
   "cell_type": "code",
   "execution_count": 1,
   "id": "7eafeb4f-609e-4cb1-838a-4bbe9db2498b",
   "metadata": {},
   "outputs": [
    {
     "data": {
      "application/vnd.jupyter.widget-view+json": {
       "model_id": "a0dbd6dd52224b58beeb233f0870391b",
       "version_major": 2,
       "version_minor": 0
      },
      "text/plain": [
       "Image(value=b'\\xff\\xd8\\xff\\xe0\\x00\\x10JFIF\\x00\\x01\\x01\\x01\\x00d\\x00d\\x00\\x00\\xff\\xdb\\x00C\\x00\\x08\\x06\\x06\\x07\\…"
      ]
     },
     "metadata": {},
     "output_type": "display_data"
    },
    {
     "data": {
      "image/png": "[encoded data removed]",
      "text/plain": [
       "<Figure size 640x480 with 1 Axes>"
      ]
     },
     "metadata": {},
     "output_type": "display_data"
    }
   ],
   "source": [
    "# import matplotlib as mpl; mpl.set_loglevel(\"critical\")\n",
    "# import matplotlib as mpl\n",
    "# mpl.use('Agg')  # Agg backend will not generate the figure unless plt.show() is called\n",
    "# %matplotlib inline\n",
    "import ipywidgets as widgets\n",
    "from IPython.display import display\n",
    "\n",
    "from io import BytesIO\n",
    "import numpy as np\n",
    "import matplotlib.pyplot as plt\n",
    "\n",
    "# import e1dwidgets as e1\n",
    "\n",
    "\n",
    "# button = widgets.Button(description=\"Update\")\n",
    "# # # button = e1.MyButton(description=\"Update\")\n",
    "# display( button )\n",
    "\n",
    "# w = e1.MPLImageWidget()\n",
    "# display(w)\n",
    "\n",
    "\n",
    "# class MPLImageWidget( widgets.Image ):\n",
    "\n",
    "#     def __init__(self):\n",
    "#         self.fig = plt.figure()\n",
    "#         self.ax  = self.fig.add_axes([0.20,0.20,0.79,0.79])\n",
    "        \n",
    "#         self.fig.canvas.toolbar_visible = False\n",
    "#         self.fig.canvas.header_visible = False\n",
    "#         self.fig.canvas.footer_visible = False\n",
    "        \n",
    "#         np.random.seed(0)\n",
    "#         self.shape = 20,50\n",
    "#         a     = np.random.randn( *self.shape )\n",
    "#         self.ax.imshow( a )\n",
    "#         # img       = self.fig2img()\n",
    "        \n",
    "#         b = BytesIO()\n",
    "#         plt.savefig(b, format='png')\n",
    "#         b.seek(0)\n",
    "#         img = b.getvalue()\n",
    "#         b.close()\n",
    "        \n",
    "        \n",
    "#         super().__init__(value=img, format='png', border=None, width=300)\n",
    "        \n",
    "#         # self.a1   = np.random.randn( *shape )\n",
    "#         # ### first image:\n",
    "#         # self.set_image( self.a0 )\n",
    "\n",
    "\n",
    "# with open('examples/img/1.png', 'rb') as f:\n",
    "#     img = f.read()\n",
    "# w = widgets.Image(value=img, format='png', border=None, width=300)\n",
    "# display(w)\n",
    "\n",
    "# w = MPLImageWidget()\n",
    "\n",
    "\n",
    "np.random.seed(0)\n",
    "a = np.random.randn( 20, 50 )\n",
    "\n",
    "fig = plt.figure()\n",
    "ax  = fig.add_axes([0.20,0.20,0.79,0.79])\n",
    "ax.imshow( a )\n",
    "\n",
    "# plt.show()\n",
    "\n",
    "with BytesIO() as b:\n",
    "    plt.savefig(b, format='jpg')\n",
    "    b.seek(0)\n",
    "    # img = b.getvalue()\n",
    "    img = b.read()\n",
    "\n",
    "\n",
    "# # b = BytesIO()\n",
    "# # plt.savefig(b, format='jpg')\n",
    "# # b.seek(0)\n",
    "# # # img = b.getvalue()\n",
    "# # img = b.read()\n",
    "# # b.close()\n",
    "\n",
    "w = widgets.Image(value=img, format='jpg', border=None, width=300)\n",
    "\n",
    "\n",
    "display(w)\n"
   ]
  }
 ],
 "metadata": {
  "kernelspec": {
   "display_name": "Python 3 (ipykernel)",
   "language": "python",
   "name": "python3"
  },
  "language_info": {
   "codemirror_mode": {
    "name": "ipython",
    "version": 3
   },
   "file_extension": ".py",
   "mimetype": "text/x-python",
   "name": "python",
   "nbconvert_exporter": "python",
   "pygments_lexer": "ipython3",
   "version": "3.11.3"
  }
 },
 "nbformat": 4,
 "nbformat_minor": 5
}
