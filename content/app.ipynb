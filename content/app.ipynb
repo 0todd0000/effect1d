{
 "cells": [
  {
   "cell_type": "code",
   "execution_count": 4,
   "id": "7eafeb4f-609e-4cb1-838a-4bbe9db2498b",
   "metadata": {},
   "outputs": [
    {
     "data": {
      "application/vnd.jupyter.widget-view+json": {
       "model_id": "231fd74764c9444fb3f747cbe5ae28b1",
       "version_major": 2,
       "version_minor": 0
      },
      "text/plain": [
       "AppHeader(children=(HTML(value='\\n        <h1 style=\"text-align:center;\">Effect Size Interpretation Calculator…"
      ]
     },
     "metadata": {},
     "output_type": "display_data"
    },
    {
     "data": {
      "application/vnd.jupyter.widget-view+json": {
       "model_id": "6a3944a6de0e4a3e8f3a53f86f2f1fc0",
       "version_major": 2,
       "version_minor": 0
      },
      "text/plain": [
       "HBox(children=(ControlsWidget(children=(Header(children=(HTML(value='<h3>Parameters</h3>', placeholder=''),), …"
      ]
     },
     "metadata": {},
     "output_type": "display_data"
    },
    {
     "data": {
      "application/vnd.jupyter.widget-view+json": {
       "model_id": "9fb11d0ad5c247869578ed8bd924c9c9",
       "version_major": 2,
       "version_minor": 0
      },
      "text/plain": [
       "Output()"
      ]
     },
     "metadata": {},
     "output_type": "display_data"
    }
   ],
   "source": [
    "import ipywidgets as widgets\n",
    "from IPython.display import display, clear_output\n",
    "import mywidgets as mw\n",
    "import rft1d\n",
    "\n",
    "from mywidgets.prob import Effect1DInterpretationCalculator, _Params\n",
    "calc          = Effect1DInterpretationCalculator()\n",
    "params = _Params()\n",
    "res = calc.update_params( params )\n",
    "\n",
    "\n",
    "mgr      = mw.CallbackManager()\n",
    "header   = mw.AppHeader()\n",
    "controls = mw.ControlsWidget( mgr )\n",
    "figure   = mw.FigureWidget( mgr )\n",
    "results  = mw.ResultsWidget( mgr )\n",
    "out      = mw.Output( mgr )\n",
    "\n",
    "layout   = widgets.Layout(display='flex', flex_flow='row', align_items='center', width='100%')\n",
    "hbox     = widgets.HBox(children=[controls, figure, results], layout=layout)\n",
    "\n",
    "display(header, hbox, out)\n",
    "\n"
   ]
  }
 ],
 "metadata": {
  "kernelspec": {
   "display_name": "Python 3 (ipykernel)",
   "language": "python",
   "name": "python3"
  },
  "language_info": {
   "codemirror_mode": {
    "name": "ipython",
    "version": 3
   },
   "file_extension": ".py",
   "mimetype": "text/x-python",
   "name": "python",
   "nbconvert_exporter": "python",
   "pygments_lexer": "ipython3",
   "version": "3.11.3"
  }
 },
 "nbformat": 4,
 "nbformat_minor": 5
}
