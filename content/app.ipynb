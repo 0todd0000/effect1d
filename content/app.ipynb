{
 "cells": [
  {
   "cell_type": "markdown",
   "id": "6f6c1f66-a353-402b-b7b8-211ad417e56e",
   "metadata": {},
   "source": [
    "\n",
    "<h1 style=\"text-align:center;\">Effect Size Interpretation Calculator</h1>\n",
    "\n",
    "<h4 style=\"text-align:center;\">for one-dimensional functional data </h4>"
   ]
  },
  {
   "cell_type": "code",
   "execution_count": 1,
   "id": "7eafeb4f-609e-4cb1-838a-4bbe9db2498b",
   "metadata": {},
   "outputs": [
    {
     "data": {
      "application/vnd.jupyter.widget-view+json": {
       "model_id": "317a35a135004793845d0294bab1ab77",
       "version_major": 2,
       "version_minor": 0
      },
      "text/plain": [
       "MyButton(description='Update', style=ButtonStyle())"
      ]
     },
     "metadata": {},
     "output_type": "display_data"
    }
   ],
   "source": [
    "import matplotlib as mpl; mpl.set_loglevel(\"critical\")\n",
    "# import matplotlib as mpl\n",
    "# mpl.use('Agg')  # Agg backend will not generate the figure unless plt.show() is called\n",
    "# %matplotlib inline\n",
    "import ipywidgets as widgets\n",
    "from IPython.display import display\n",
    "\n",
    "import e1dwidgets as e1\n",
    "\n",
    "\n",
    "# button = widgets.Button(description=\"Update\")\n",
    "button = e1.MyButton(description=\"Update\")\n",
    "display( button )\n"
   ]
  }
 ],
 "metadata": {
  "kernelspec": {
   "display_name": "Python 3 (ipykernel)",
   "language": "python",
   "name": "python3"
  },
  "language_info": {
   "codemirror_mode": {
    "name": "ipython",
    "version": 3
   },
   "file_extension": ".py",
   "mimetype": "text/x-python",
   "name": "python",
   "nbconvert_exporter": "python",
   "pygments_lexer": "ipython3",
   "version": "3.12.7"
  }
 },
 "nbformat": 4,
 "nbformat_minor": 5
}
