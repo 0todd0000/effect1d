{
 "cells": [
  {
   "cell_type": "code",
   "execution_count": 1,
   "id": "7eafeb4f-609e-4cb1-838a-4bbe9db2498b",
   "metadata": {},
   "outputs": [
    {
     "data": {
      "application/vnd.jupyter.widget-view+json": {
       "model_id": "12a6e51a8114435c84b45c1eb2313b8f",
       "version_major": 2,
       "version_minor": 0
      },
      "text/plain": [
       "AppHeader(children=(HTML(value='\\n        <h1 style=\"text-align:center;\">Effect Size Interpretation Calculator…"
      ]
     },
     "metadata": {},
     "output_type": "display_data"
    },
    {
     "data": {
      "application/vnd.jupyter.widget-view+json": {
       "model_id": "f684e14413504f07a932067a206307e1",
       "version_major": 2,
       "version_minor": 0
      },
      "text/plain": [
       "HBox(children=(ControlsWidget(children=(Header(children=(HTML(value='<h3>Parameters</h3>', placeholder=''),), …"
      ]
     },
     "metadata": {},
     "output_type": "display_data"
    },
    {
     "data": {
      "application/vnd.jupyter.widget-view+json": {
       "model_id": "f8e8f21ba7ce4c71a2f5828893a7a10a",
       "version_major": 2,
       "version_minor": 0
      },
      "text/plain": [
       "Output()"
      ]
     },
     "metadata": {},
     "output_type": "display_data"
    }
   ],
   "source": [
    "import ipywidgets as widgets\n",
    "from IPython.display import display, clear_output\n",
    "import mywidgets as mw\n",
    "import rft1d\n",
    "\n",
    "mgr      = mw.CallbackManager()\n",
    "header   = mw.AppHeader()\n",
    "controls = mw.ControlsWidget( mgr )\n",
    "figure   = mw.FigureWidget( mgr )\n",
    "results  = mw.ResultsWidget( mgr )\n",
    "out      = mw.Output( mgr )\n",
    "\n",
    "layout   = widgets.Layout(display='flex', flex_flow='row', align_items='center', width='100%')\n",
    "hbox     = widgets.HBox(children=[controls, figure, results], layout=layout)\n",
    "\n",
    "display(header, hbox, out)\n",
    "\n"
   ]
  }
 ],
 "metadata": {
  "kernelspec": {
   "display_name": "Python 3 (ipykernel)",
   "language": "python",
   "name": "python3"
  },
  "language_info": {
   "codemirror_mode": {
    "name": "ipython",
    "version": 3
   },
   "file_extension": ".py",
   "mimetype": "text/x-python",
   "name": "python",
   "nbconvert_exporter": "python",
   "pygments_lexer": "ipython3",
   "version": "3.11.3"
  }
 },
 "nbformat": 4,
 "nbformat_minor": 5
}
