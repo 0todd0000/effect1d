{
 "cells": [
  {
   "cell_type": "code",
   "execution_count": 1,
   "id": "c832bfa6-42e6-4bf3-9506-fe93c1c4ed72",
   "metadata": {},
   "outputs": [],
   "source": [
    "import ipywidgets as widgets\n",
    "from IPython.display import display\n",
    "import numpy as np\n",
    "import matplotlib.pyplot as plt\n"
   ]
  },
  {
   "cell_type": "code",
   "execution_count": 2,
   "id": "290fb37e-9b7c-4059-b490-dbc117f16e7c",
   "metadata": {},
   "outputs": [
    {
     "data": {
      "application/vnd.jupyter.widget-view+json": {
       "model_id": "08ebf2ed8f294894897a538d5c3fe2ce",
       "version_major": 2,
       "version_minor": 0
      },
      "text/plain": [
       "Dropdown(description='Design:', index=2, options=('One-sample', 'Paired', 'Two-sample'), value='Two-sample')"
      ]
     },
     "execution_count": 2,
     "metadata": {},
     "output_type": "execute_result"
    }
   ],
   "source": [
    "widgets.Dropdown(\n",
    "    options=['One-sample', 'Paired', 'Two-sample'],\n",
    "    value='Two-sample',\n",
    "    description='Design:',\n",
    "    disabled=False,\n",
    ")"
   ]
  },
  {
   "cell_type": "code",
   "execution_count": 3,
   "id": "58cfcf8a-920f-4410-b31a-b04179c41a24",
   "metadata": {},
   "outputs": [
    {
     "data": {
      "application/vnd.jupyter.widget-view+json": {
       "model_id": "a3655d04edd949d0bc87b3d9e6987454",
       "version_major": 2,
       "version_minor": 0
      },
      "text/plain": [
       "FloatRangeSlider(value=(0.1, 4.0), continuous_update=False, description='d limits:', max=10.0, readout_format=…"
      ]
     },
     "execution_count": 3,
     "metadata": {},
     "output_type": "execute_result"
    }
   ],
   "source": [
    "widgets.FloatRangeSlider(\n",
    "    value=[0.1, 4],\n",
    "    min=0,\n",
    "    max=10.0,\n",
    "    step=0.1,\n",
    "    description='d limits:',\n",
    "    disabled=False,\n",
    "    continuous_update=False,\n",
    "    orientation='horizontal',\n",
    "    readout=True,\n",
    "    readout_format='.1f',\n",
    ")"
   ]
  },
  {
   "cell_type": "markdown",
   "id": "6f6c1f66-a353-402b-b7b8-211ad417e56e",
   "metadata": {},
   "source": [
    "<br>\n",
    "<br>\n",
    "<br>\n",
    "<br>\n",
    "\n",
    "### Main parameters"
   ]
  },
  {
   "cell_type": "code",
   "execution_count": 4,
   "id": "44ff1387-2905-4c99-be01-1885f5db4580",
   "metadata": {},
   "outputs": [
    {
     "data": {
      "application/vnd.jupyter.widget-view+json": {
       "model_id": "0e7d53c06b314727b06b2f9fac9fd8f7",
       "version_major": 2,
       "version_minor": 0
      },
      "text/plain": [
       "VBox(children=(BoundedIntText(value=10, description='Group size:', max=50, min=3), BoundedFloatText(value=7.5,…"
      ]
     },
     "metadata": {},
     "output_type": "display_data"
    }
   ],
   "source": [
    "w0 = widgets.BoundedIntText(\n",
    "    value=10,\n",
    "    min=3,\n",
    "    max=50,\n",
    "    step=1,\n",
    "    description='Group size:',\n",
    "    disabled=False\n",
    ")\n",
    "\n",
    "w1 = widgets.BoundedFloatText(\n",
    "    value=7.5,\n",
    "    min=3,\n",
    "    max=50.0,\n",
    "    step=0.1,\n",
    "    description='FWHM:',\n",
    "    disabled=False\n",
    ")\n",
    "\n",
    "w2 = widgets.BoundedFloatText(\n",
    "    value=7.5,\n",
    "    min=0.01,\n",
    "    max=10.0,\n",
    "    step=0.1,\n",
    "    description=\"Cohen's d:\",\n",
    "    disabled=False\n",
    ")\n",
    "\n",
    "\n",
    "vbox0 = widgets.VBox([w0, w1, w2])\n",
    "display( vbox0 )"
   ]
  },
  {
   "cell_type": "markdown",
   "id": "6ace7cf5-f1ef-4d62-9aa6-a830cd9489b5",
   "metadata": {},
   "source": [
    "### Results"
   ]
  },
  {
   "cell_type": "code",
   "execution_count": 5,
   "id": "94143a61-c36b-4086-93f2-b7f09bcf8c8e",
   "metadata": {},
   "outputs": [
    {
     "data": {
      "application/vnd.jupyter.widget-view+json": {
       "model_id": "230a3597c45e42ed9017c270f62e9406",
       "version_major": 2,
       "version_minor": 0
      },
      "text/plain": [
       "HBox(children=(VBox(children=(BoundedIntText(value=10, description='Group size:', max=50, min=3), BoundedFloat…"
      ]
     },
     "metadata": {},
     "output_type": "display_data"
    }
   ],
   "source": [
    "# w0 = widgets.Label(value=\"Results\", display=\"flex\", justify_content=\"center\", width=\"30%\", layout=widgets.Layout(width='50%', height='80px'))\n",
    "w0 = widgets.Label(value=\"Results\", display=\"flex\", justify_content=\"center\", width=\"30%\")\n",
    "\n",
    "w1 = widgets.FloatText(\n",
    "    value=0.0,\n",
    "    description='p-value:',\n",
    "    disabled=True\n",
    ")\n",
    "\n",
    "w2 = widgets.Text(\n",
    "    value='Large',\n",
    "    placeholder='',\n",
    "    description='Size',\n",
    "    disabled=True   \n",
    ")\n",
    "\n",
    "vbox1 = widgets.VBox([w0, w1, w2])\n",
    "\n",
    "\n",
    "hbox = widgets.HBox([vbox0, vbox1])\n",
    "display( hbox )"
   ]
  },
  {
   "cell_type": "code",
   "execution_count": 6,
   "id": "5b9f58e4-0d59-4efd-87e7-3451f5c82c98",
   "metadata": {},
   "outputs": [
    {
     "data": {
      "image/png": "[encoded data removed]",
      "text/plain": [
       "<Figure size 640x480 with 1 Axes>"
      ]
     },
     "metadata": {},
     "output_type": "display_data"
    }
   ],
   "source": [
    "plt.figure()\n",
    "plt.plot( np.random.randn(10) )\n",
    "plt.show()"
   ]
  },
  {
   "cell_type": "code",
   "execution_count": 7,
   "id": "8dff67d6-4abf-41ab-9acb-b9075da2bb86",
   "metadata": {},
   "outputs": [
    {
     "data": {
      "application/vnd.jupyter.widget-view+json": {
       "model_id": "7c7ff6ca2ba8491ba596b45672823860",
       "version_major": 2,
       "version_minor": 0
      },
      "text/plain": [
       "Button(description='New data', style=ButtonStyle())"
      ]
     },
     "metadata": {},
     "output_type": "display_data"
    },
    {
     "data": {
      "application/vnd.jupyter.widget-view+json": {
       "model_id": "c0254b0a349949f69763ac00c1e90c73",
       "version_major": 2,
       "version_minor": 0
      },
      "text/plain": [
       "Output()"
      ]
     },
     "metadata": {},
     "output_type": "display_data"
    }
   ],
   "source": [
    "button = widgets.Button(description=\"New data\")\n",
    "output = widgets.Output()\n",
    "\n",
    "\n",
    "display(button, output)\n",
    "\n",
    "def on_button_clicked(b):\n",
    "    with output:\n",
    "        print(\"Button clicked.\")\n",
    "\n",
    "button.on_click(on_button_clicked)\n",
    "\n"
   ]
  }
 ],
 "metadata": {
  "kernelspec": {
   "display_name": "Python 3 (ipykernel)",
   "language": "python",
   "name": "python3"
  },
  "language_info": {
   "codemirror_mode": {
    "name": "ipython",
    "version": 3
   },
   "file_extension": ".py",
   "mimetype": "text/x-python",
   "name": "python",
   "nbconvert_exporter": "python",
   "pygments_lexer": "ipython3",
   "version": "3.12.7"
  }
 },
 "nbformat": 4,
 "nbformat_minor": 5
}
