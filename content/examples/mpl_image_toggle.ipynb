{
 "cells": [
  {
   "cell_type": "markdown",
   "id": "6f6c1f66-a353-402b-b7b8-211ad417e56e",
   "metadata": {},
   "source": [
    "<h1 style=\"text-align:center;\">Example: matplotlib image toggle</h1>"
   ]
  },
  {
   "cell_type": "code",
   "execution_count": 1,
   "id": "27126004-7c1d-4740-ab85-46d81be1d753",
   "metadata": {},
   "outputs": [
    {
     "data": {
      "application/vnd.jupyter.widget-view+json": {
       "model_id": "0a1aafede96b47c0840afc549b45468b",
       "version_major": 2,
       "version_minor": 0
      },
      "text/plain": [
       "Image(value=b'\\x89PNG\\r\\n\\x1a\\n\\x00\\x00\\x00\\rIHDR\\x00\\x00\\x01,\\x00\\x00\\x00\\xc8\\x08\\x06\\x00\\x00\\x00R\\xdf\\xdcU\\x…"
      ]
     },
     "metadata": {},
     "output_type": "display_data"
    },
    {
     "data": {
      "application/vnd.jupyter.widget-view+json": {
       "model_id": "1add77fe11684ff7bbe5dcafacf3ca1a",
       "version_major": 2,
       "version_minor": 0
      },
      "text/plain": [
       "Button(description='Update', style=ButtonStyle())"
      ]
     },
     "metadata": {},
     "output_type": "display_data"
    },
    {
     "data": {
      "application/vnd.jupyter.widget-view+json": {
       "model_id": "21027f08319a497b91b8430512a3011c",
       "version_major": 2,
       "version_minor": 0
      },
      "text/plain": [
       "Output()"
      ]
     },
     "metadata": {},
     "output_type": "display_data"
    }
   ],
   "source": [
    "import ipywidgets as widgets\n",
    "from IPython.display import display, clear_output\n",
    "import matplotlib as mpl\n",
    "mpl.use('Agg')  # Agg backend will not generate the figure unless plt.show() is called\n",
    "import numpy as np\n",
    "import matplotlib.pyplot as plt\n",
    "from io import BytesIO\n",
    "\n",
    "def fig2img():\n",
    "    b = BytesIO()\n",
    "    plt.savefig(b, format='png')\n",
    "    b.seek(0)\n",
    "    img = b.getvalue()\n",
    "    b.close()\n",
    "    return img\n",
    "    \n",
    "\n",
    "# generate two images:\n",
    "np.random.seed(0)\n",
    "shape = 20,50\n",
    "a0   = np.random.randn( *shape )\n",
    "a1   = np.random.randn( *shape )\n",
    "### first image:\n",
    "fig  = plt.figure( figsize=(3,2) )\n",
    "ax   = fig.add_axes( [0,0,1,1] )\n",
    "ax.imshow(a0)\n",
    "img0 = fig2img()\n",
    "### second image:\n",
    "ax.cla()\n",
    "ax.imshow(a1)\n",
    "img1 = fig2img()\n",
    "\n",
    "\n",
    "\n",
    "# create widgets:\n",
    "w      = widgets.Image(value=img0, format='png', border=None, width=300)\n",
    "button = widgets.Button(description=\"Update\")\n",
    "button._state = 0\n",
    "out = widgets.Output()\n",
    "display(w, button, out)\n",
    "\n",
    "# create callback:\n",
    "def on_button_clicked(b):\n",
    "    b._state = 1 if b._state==0 else 0\n",
    "    img      = img0 if b._state==0 else img1\n",
    "    with out:\n",
    "        clear_output()\n",
    "        print( \"Current state: \", b._state)\n",
    "    w.value = img\n",
    "\n",
    "button.on_click(on_button_clicked)\n"
   ]
  }
 ],
 "metadata": {
  "kernelspec": {
   "display_name": "Python 3 (ipykernel)",
   "language": "python",
   "name": "python3"
  },
  "language_info": {
   "codemirror_mode": {
    "name": "ipython",
    "version": 3
   },
   "file_extension": ".py",
   "mimetype": "text/x-python",
   "name": "python",
   "nbconvert_exporter": "python",
   "pygments_lexer": "ipython3",
   "version": "3.12.7"
  }
 },
 "nbformat": 4,
 "nbformat_minor": 5
}
