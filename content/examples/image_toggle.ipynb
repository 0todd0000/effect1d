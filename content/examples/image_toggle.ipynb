{
 "cells": [
  {
   "cell_type": "markdown",
   "id": "6f6c1f66-a353-402b-b7b8-211ad417e56e",
   "metadata": {},
   "source": [
    "<h1 style=\"text-align:center;\">Example: image toggle</h1>"
   ]
  },
  {
   "cell_type": "code",
   "execution_count": 1,
   "id": "27126004-7c1d-4740-ab85-46d81be1d753",
   "metadata": {},
   "outputs": [
    {
     "data": {
      "application/vnd.jupyter.widget-view+json": {
       "model_id": "8c8bc9ce19994ecbb241e9941e3b161d",
       "version_major": 2,
       "version_minor": 0
      },
      "text/plain": [
       "Image(value=b'\\x89PNG\\r\\n\\x1a\\n\\x00\\x00\\x00\\rIHDR\\x00\\x00\\x01\\xe0\\x00\\x00\\x01\\x0e\\x08\\x06\\x00\\x00\\x00Q\\x9a\\xc4…"
      ]
     },
     "metadata": {},
     "output_type": "display_data"
    },
    {
     "data": {
      "application/vnd.jupyter.widget-view+json": {
       "model_id": "4af0f529c4644d94978188a9d4a2ab60",
       "version_major": 2,
       "version_minor": 0
      },
      "text/plain": [
       "Button(description='Update', style=ButtonStyle())"
      ]
     },
     "metadata": {},
     "output_type": "display_data"
    },
    {
     "data": {
      "application/vnd.jupyter.widget-view+json": {
       "model_id": "aa2bcccdc8304fe9a1bbf1c139e6f679",
       "version_major": 2,
       "version_minor": 0
      },
      "text/plain": [
       "Output()"
      ]
     },
     "metadata": {},
     "output_type": "display_data"
    }
   ],
   "source": [
    "import ipywidgets as widgets\n",
    "from IPython.display import display, clear_output\n",
    "\n",
    "# load images;\n",
    "with open('img/1.png', 'rb') as f:\n",
    "    img0 = f.read()\n",
    "with open('img/2.jpg', 'rb') as f:\n",
    "    img1 = f.read()\n",
    "\n",
    "# create widgets:\n",
    "w      = widgets.Image(value=img0, format='png', border=None, width=300)\n",
    "button = widgets.Button(description=\"Update\")\n",
    "button._state = 0\n",
    "out = widgets.Output()\n",
    "display(w, button, out)\n",
    "\n",
    "# create callback:\n",
    "def on_button_clicked(b):\n",
    "    b._state = 1 if b._state==0 else 0\n",
    "    img      = img0 if b._state==0 else img1\n",
    "    with out:\n",
    "        clear_output()\n",
    "        print( \"Current state: \", b._state)\n",
    "    w.value = img\n",
    "\n",
    "button.on_click(on_button_clicked)\n"
   ]
  }
 ],
 "metadata": {
  "kernelspec": {
   "display_name": "Python 3 (ipykernel)",
   "language": "python",
   "name": "python3"
  },
  "language_info": {
   "codemirror_mode": {
    "name": "ipython",
    "version": 3
   },
   "file_extension": ".py",
   "mimetype": "text/x-python",
   "name": "python",
   "nbconvert_exporter": "python",
   "pygments_lexer": "ipython3",
   "version": "3.12.7"
  }
 },
 "nbformat": 4,
 "nbformat_minor": 5
}
